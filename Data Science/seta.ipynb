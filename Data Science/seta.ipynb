{
 "cells": [
  {
   "cell_type": "code",
   "execution_count": null,
   "metadata": {},
   "outputs": [],
   "source": [
    "import pandas as pd \n",
    "import matplotlib.pyplot as plt \n",
    "df = pd.read_csv(\"data.csv\")\n",
    "print(df)\n",
    "print(df.head())\n",
    "print(df.tail())\n",
    "print(\"Dataset Info\")\n",
    "#q2\n",
    "print(df.shape)\n",
    "print(df.size)\n",
    "print(df.dtypes)\n",
    "#q3\n",
    "print(\"basic statisticsl details:\")\n",
    "print(df.describe())\n",
    "#q4\n",
    "print(\"\\n sum of None values\\n\",df.isna(),sum())\n",
    "print(\"\\n total duplicate values\\n\",df.duplicated(),sum())\n",
    "print(\"\\n total no. of record \\n\",df.size())\n",
    "#q5\n",
    "df['BMI'] = (df['weight'])/(df['height']**2)\n",
    "#q6\n",
    "print(\"maximum BMI : \",max(df['BMI']))\n",
    "print(\"minimum BMI : \",min(df['BMI']))\n",
    "#q7\n",
    "plt.scatter(df['height'],df['weight'])\n",
    "plt.show()\n",
    "\n",
    "\n",
    "\n",
    "\n"
   ]
  }
 ],
 "metadata": {
  "kernelspec": {
   "display_name": "Python 3",
   "language": "python",
   "name": "python3"
  },
  "language_info": {
   "name": "python",
   "version": "3.12.0"
  }
 },
 "nbformat": 4,
 "nbformat_minor": 2
}
