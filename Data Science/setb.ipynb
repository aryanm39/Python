{
 "cells": [
  {
   "cell_type": "code",
   "execution_count": null,
   "metadata": {},
   "outputs": [],
   "source": [
    "import pandas as pd \n",
    "import matplotlib.pyplot as plt \n",
    "df = pd.DataFrame(columns=['name','age','percentage'])\n",
    "df.loc[0] = ['a','20','76']\n",
    "df.loc[1] = ['b','20','55']\n",
    "df.loc[2] = ['c','22','78']\n",
    "df.loc[3] = ['d','24','45']\n",
    "df.loc[4] = ['e','20','65']\n",
    "df.loc[5] = ['f','25','87']\n",
    "df.loc[6] = ['g','20','95']\n",
    "df.loc[7] = ['h','20','77']\n",
    "df.loc[8] = ['i','19','66']\n",
    "df.loc[9] = ['j','20','70']\n",
    "print(df)\n"
   ]
  }
 ],
 "metadata": {
  "kernelspec": {
   "display_name": "Python 3",
   "language": "python",
   "name": "python3"
  },
  "language_info": {
   "name": "python",
   "version": "3.12.0"
  }
 },
 "nbformat": 4,
 "nbformat_minor": 2
}
