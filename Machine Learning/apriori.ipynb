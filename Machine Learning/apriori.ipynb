{
 "cells": [
  {
   "cell_type": "code",
   "execution_count": 3,
   "metadata": {},
   "outputs": [],
   "source": [
    "import csv\n",
    "from mlxtend.preprocessing import TransactionEncoder\n",
    "from mlxtend.frequent_patterns import apriori\n",
    "import pandas as pd\n",
    "dataset = []\n",
    "with open('dataset/groceries.csv','r') as csvfile:\n",
    "    reader = csv.reader(csvfile,delimiter=',')\n",
    "    for row in reader:\n",
    "        dataset+=[row]\n",
    "te = TransactionEncoder()\n",
    "data = te.fit_transform(dataset)\n",
    "data = pd.DataFrame(data,columns=te.columns_)\n",
    "data.shape\n",
    "freq_item = apriori(data,min_support=0.001,use_colnames=True)\n",
    "freq_item.head()\n",
    "from mlxtend.frequent_patterns import association_rules\n",
    "rules = association_rules(freq_item,metric='confidence',min_threshold=0.8)\n",
    "len(rules)\n",
    "rules1 = association_rules(freq_item,metric='lift',min_threshold=10)\n",
    "len(rules1)\n",
    "rules['ante_len'] = rules['antecedents'].apply(lambda x:len(x))\n",
    "nrules = rules[(rules['ante_len'] <= 3) & \n",
    "               (rules['confidence']>= 0.9) & \n",
    "               (rules['lift'] >= 2.0)]\n",
    "nrules = rules[rules['consequents'] == {'whole milk'}]\n",
    "nrules = rules[rules['antecedents'] == {'cereals','curd'}]\n",
    "nrules\n",
    "nrules = rules[['antecedents','consequents','confidence']]\n",
    "nrules.head()\n",
    "len(nrules)\n",
    "nrules.to_csv('rules.csv')"
   ]
  },
  {
   "cell_type": "code",
   "execution_count": 1,
   "metadata": {},
   "outputs": [],
   "source": [
    "from mlxtend.preprocessing import TransactionEncoder\n",
    "import csv\n",
    "import pandas as pd"
   ]
  },
  {
   "cell_type": "code",
   "execution_count": 12,
   "metadata": {},
   "outputs": [],
   "source": [
    "dataset = [['Apple','Beer','Rice','Chicken'],\n",
    "           ['Apple','Beer','Rice'],\n",
    "           ['Apple','Beer'],\n",
    "           ['Apple','Bananas'],\n",
    "           ['Milk','Beer','Rice','Chicken'],\n",
    "           ['Milk','Beer','Rice'],\n",
    "           ['Milk','Beer'],\n",
    "           ['Apple','Bananas']]"
   ]
  },
  {
   "cell_type": "code",
   "execution_count": 13,
   "metadata": {},
   "outputs": [],
   "source": [
    "te = TransactionEncoder()\n",
    "tran = te.fit_transform(dataset)"
   ]
  },
  {
   "cell_type": "code",
   "execution_count": 14,
   "metadata": {},
   "outputs": [
    {
     "name": "stdout",
     "output_type": "stream",
     "text": [
      "[[ True False  True  True False  True]\n",
      " [ True False  True False False  True]\n",
      " [ True False  True False False False]\n",
      " [ True  True False False False False]\n",
      " [False False  True  True  True  True]\n",
      " [False False  True False  True  True]\n",
      " [False False  True False  True False]\n",
      " [ True  True False False False False]]\n"
     ]
    }
   ],
   "source": [
    "print(tran)"
   ]
  },
  {
   "cell_type": "code",
   "execution_count": 15,
   "metadata": {},
   "outputs": [
    {
     "name": "stdout",
     "output_type": "stream",
     "text": [
      "['Apple', 'Bananas', 'Beer', 'Chicken', 'Milk', 'Rice']\n"
     ]
    }
   ],
   "source": [
    "print(te.columns_)"
   ]
  },
  {
   "cell_type": "code",
   "execution_count": 16,
   "metadata": {},
   "outputs": [
    {
     "name": "stdout",
     "output_type": "stream",
     "text": [
      "   Apple  Bananas   Beer  Chicken   Milk   Rice\n",
      "0   True    False   True     True  False   True\n",
      "1   True    False   True    False  False   True\n",
      "2   True    False   True    False  False  False\n",
      "3   True     True  False    False  False  False\n",
      "4  False    False   True     True   True   True\n",
      "5  False    False   True    False   True   True\n",
      "6  False    False   True    False   True  False\n",
      "7   True     True  False    False  False  False\n"
     ]
    }
   ],
   "source": [
    "df =  pd.DataFrame(tran,columns=te.columns_)\n",
    "print(df)"
   ]
  },
  {
   "cell_type": "code",
   "execution_count": 17,
   "metadata": {},
   "outputs": [],
   "source": [
    "import csv\n",
    "from mlxtend.preprocessing import TransactionEncoder\n",
    "from mlxtend.frequent_patterns import apriori\n",
    "import pandas as pd"
   ]
  },
  {
   "cell_type": "code",
   "execution_count": 19,
   "metadata": {},
   "outputs": [],
   "source": [
    "dataset = []\n",
    "with open('groceries.csv','r') as csvfile:\n",
    "    reader = csv.reader(csvfile,delimiter=',')\n",
    "    for row in reader:\n",
    "        dataset+=[row]"
   ]
  },
  {
   "cell_type": "code",
   "execution_count": 20,
   "metadata": {},
   "outputs": [
    {
     "data": {
      "text/plain": [
       "(9835, 169)"
      ]
     },
     "execution_count": 20,
     "metadata": {},
     "output_type": "execute_result"
    }
   ],
   "source": [
    "te = TransactionEncoder()\n",
    "data = te.fit_transform(dataset)\n",
    "data = pd.DataFrame(data,columns=te.columns_)\n",
    "data.shape\n"
   ]
  },
  {
   "cell_type": "code",
   "execution_count": 22,
   "metadata": {},
   "outputs": [],
   "source": [
    "freq_item = apriori(data,min_support=0.001,use_colnames=True)"
   ]
  },
  {
   "cell_type": "code",
   "execution_count": 23,
   "metadata": {},
   "outputs": [
    {
     "data": {
      "text/html": [
       "<div>\n",
       "<style scoped>\n",
       "    .dataframe tbody tr th:only-of-type {\n",
       "        vertical-align: middle;\n",
       "    }\n",
       "\n",
       "    .dataframe tbody tr th {\n",
       "        vertical-align: top;\n",
       "    }\n",
       "\n",
       "    .dataframe thead th {\n",
       "        text-align: right;\n",
       "    }\n",
       "</style>\n",
       "<table border=\"1\" class=\"dataframe\">\n",
       "  <thead>\n",
       "    <tr style=\"text-align: right;\">\n",
       "      <th></th>\n",
       "      <th>support</th>\n",
       "      <th>itemsets</th>\n",
       "    </tr>\n",
       "  </thead>\n",
       "  <tbody>\n",
       "    <tr>\n",
       "      <th>0</th>\n",
       "      <td>0.008033</td>\n",
       "      <td>(Instant food products)</td>\n",
       "    </tr>\n",
       "    <tr>\n",
       "      <th>1</th>\n",
       "      <td>0.033452</td>\n",
       "      <td>(UHT-milk)</td>\n",
       "    </tr>\n",
       "    <tr>\n",
       "      <th>2</th>\n",
       "      <td>0.003559</td>\n",
       "      <td>(abrasive cleaner)</td>\n",
       "    </tr>\n",
       "    <tr>\n",
       "      <th>3</th>\n",
       "      <td>0.003254</td>\n",
       "      <td>(artif. sweetener)</td>\n",
       "    </tr>\n",
       "    <tr>\n",
       "      <th>4</th>\n",
       "      <td>0.017692</td>\n",
       "      <td>(baking powder)</td>\n",
       "    </tr>\n",
       "  </tbody>\n",
       "</table>\n",
       "</div>"
      ],
      "text/plain": [
       "    support                 itemsets\n",
       "0  0.008033  (Instant food products)\n",
       "1  0.033452               (UHT-milk)\n",
       "2  0.003559       (abrasive cleaner)\n",
       "3  0.003254       (artif. sweetener)\n",
       "4  0.017692          (baking powder)"
      ]
     },
     "execution_count": 23,
     "metadata": {},
     "output_type": "execute_result"
    }
   ],
   "source": [
    "freq_item.head()"
   ]
  },
  {
   "cell_type": "code",
   "execution_count": 24,
   "metadata": {},
   "outputs": [],
   "source": [
    "from mlxtend.frequent_patterns import association_rules"
   ]
  },
  {
   "cell_type": "code",
   "execution_count": 29,
   "metadata": {},
   "outputs": [
    {
     "data": {
      "text/plain": [
       "409"
      ]
     },
     "execution_count": 29,
     "metadata": {},
     "output_type": "execute_result"
    }
   ],
   "source": [
    "rules = association_rules(freq_item,metric='confidence',min_threshold=0.8)\n",
    "len(rules)"
   ]
  },
  {
   "cell_type": "code",
   "execution_count": 30,
   "metadata": {},
   "outputs": [
    {
     "data": {
      "text/plain": [
       "1764"
      ]
     },
     "execution_count": 30,
     "metadata": {},
     "output_type": "execute_result"
    }
   ],
   "source": [
    "rules1 = association_rules(freq_item,metric='lift',min_threshold=10)\n",
    "len(rules1)"
   ]
  },
  {
   "cell_type": "code",
   "execution_count": 32,
   "metadata": {},
   "outputs": [],
   "source": [
    "rules['ante_len'] = rules['antecedents'].apply(lambda x:len(x))"
   ]
  },
  {
   "cell_type": "code",
   "execution_count": 34,
   "metadata": {},
   "outputs": [],
   "source": [
    "nrules = rules[(rules['ante_len'] <= 3) & \n",
    "               (rules['confidence']>= 0.9) & \n",
    "               (rules['lift'] >= 2.0)]"
   ]
  },
  {
   "cell_type": "code",
   "execution_count": 35,
   "metadata": {},
   "outputs": [],
   "source": [
    "nrules = rules[rules['consequents'] == {'whole milk'}]"
   ]
  },
  {
   "cell_type": "code",
   "execution_count": 39,
   "metadata": {},
   "outputs": [],
   "source": [
    "nrules = rules[rules['antecedents'] == {'cereals','curd'}]"
   ]
  },
  {
   "cell_type": "code",
   "execution_count": 40,
   "metadata": {},
   "outputs": [
    {
     "data": {
      "text/html": [
       "<div>\n",
       "<style scoped>\n",
       "    .dataframe tbody tr th:only-of-type {\n",
       "        vertical-align: middle;\n",
       "    }\n",
       "\n",
       "    .dataframe tbody tr th {\n",
       "        vertical-align: top;\n",
       "    }\n",
       "\n",
       "    .dataframe thead th {\n",
       "        text-align: right;\n",
       "    }\n",
       "</style>\n",
       "<table border=\"1\" class=\"dataframe\">\n",
       "  <thead>\n",
       "    <tr style=\"text-align: right;\">\n",
       "      <th></th>\n",
       "      <th>antecedents</th>\n",
       "      <th>consequents</th>\n",
       "      <th>antecedent support</th>\n",
       "      <th>consequent support</th>\n",
       "      <th>support</th>\n",
       "      <th>confidence</th>\n",
       "      <th>lift</th>\n",
       "      <th>leverage</th>\n",
       "      <th>conviction</th>\n",
       "      <th>zhangs_metric</th>\n",
       "      <th>ante_len</th>\n",
       "    </tr>\n",
       "  </thead>\n",
       "  <tbody>\n",
       "    <tr>\n",
       "      <th>9</th>\n",
       "      <td>(curd, cereals)</td>\n",
       "      <td>(whole milk)</td>\n",
       "      <td>0.001118</td>\n",
       "      <td>0.255516</td>\n",
       "      <td>0.001017</td>\n",
       "      <td>0.909091</td>\n",
       "      <td>3.557863</td>\n",
       "      <td>0.000731</td>\n",
       "      <td>8.189324</td>\n",
       "      <td>0.719737</td>\n",
       "      <td>2</td>\n",
       "    </tr>\n",
       "  </tbody>\n",
       "</table>\n",
       "</div>"
      ],
      "text/plain": [
       "       antecedents   consequents  ...  zhangs_metric  ante_len\n",
       "9  (curd, cereals)  (whole milk)  ...       0.719737         2\n",
       "\n",
       "[1 rows x 11 columns]"
      ]
     },
     "execution_count": 40,
     "metadata": {},
     "output_type": "execute_result"
    }
   ],
   "source": [
    "nrules"
   ]
  },
  {
   "cell_type": "code",
   "execution_count": 41,
   "metadata": {},
   "outputs": [
    {
     "data": {
      "text/html": [
       "<div>\n",
       "<style scoped>\n",
       "    .dataframe tbody tr th:only-of-type {\n",
       "        vertical-align: middle;\n",
       "    }\n",
       "\n",
       "    .dataframe tbody tr th {\n",
       "        vertical-align: top;\n",
       "    }\n",
       "\n",
       "    .dataframe thead th {\n",
       "        text-align: right;\n",
       "    }\n",
       "</style>\n",
       "<table border=\"1\" class=\"dataframe\">\n",
       "  <thead>\n",
       "    <tr style=\"text-align: right;\">\n",
       "      <th></th>\n",
       "      <th>antecedents</th>\n",
       "      <th>consequents</th>\n",
       "      <th>confidence</th>\n",
       "    </tr>\n",
       "  </thead>\n",
       "  <tbody>\n",
       "    <tr>\n",
       "      <th>0</th>\n",
       "      <td>(hamburger meat, bottled beer)</td>\n",
       "      <td>(whole milk)</td>\n",
       "      <td>0.809524</td>\n",
       "    </tr>\n",
       "    <tr>\n",
       "      <th>1</th>\n",
       "      <td>(red/blush wine, liquor)</td>\n",
       "      <td>(bottled beer)</td>\n",
       "      <td>0.904762</td>\n",
       "    </tr>\n",
       "    <tr>\n",
       "      <th>2</th>\n",
       "      <td>(soups, bottled beer)</td>\n",
       "      <td>(whole milk)</td>\n",
       "      <td>0.916667</td>\n",
       "    </tr>\n",
       "    <tr>\n",
       "      <th>3</th>\n",
       "      <td>(rice, bottled water)</td>\n",
       "      <td>(whole milk)</td>\n",
       "      <td>0.923077</td>\n",
       "    </tr>\n",
       "    <tr>\n",
       "      <th>4</th>\n",
       "      <td>(butter, jam)</td>\n",
       "      <td>(whole milk)</td>\n",
       "      <td>0.833333</td>\n",
       "    </tr>\n",
       "  </tbody>\n",
       "</table>\n",
       "</div>"
      ],
      "text/plain": [
       "                      antecedents     consequents  confidence\n",
       "0  (hamburger meat, bottled beer)    (whole milk)    0.809524\n",
       "1        (red/blush wine, liquor)  (bottled beer)    0.904762\n",
       "2           (soups, bottled beer)    (whole milk)    0.916667\n",
       "3           (rice, bottled water)    (whole milk)    0.923077\n",
       "4                   (butter, jam)    (whole milk)    0.833333"
      ]
     },
     "execution_count": 41,
     "metadata": {},
     "output_type": "execute_result"
    }
   ],
   "source": [
    "nrules = rules[['antecedents','consequents','confidence']]\n",
    "nrules.head()"
   ]
  },
  {
   "cell_type": "code",
   "execution_count": 42,
   "metadata": {},
   "outputs": [
    {
     "data": {
      "text/plain": [
       "409"
      ]
     },
     "execution_count": 42,
     "metadata": {},
     "output_type": "execute_result"
    }
   ],
   "source": [
    "len(nrules)"
   ]
  },
  {
   "cell_type": "code",
   "execution_count": null,
   "metadata": {},
   "outputs": [],
   "source": [
    "nrules.to_csv('rules.csv')"
   ]
  }
 ],
 "metadata": {
  "kernelspec": {
   "display_name": "Python 3",
   "language": "python",
   "name": "python3"
  },
  "language_info": {
   "codemirror_mode": {
    "name": "ipython",
    "version": 3
   },
   "file_extension": ".py",
   "mimetype": "text/x-python",
   "name": "python",
   "nbconvert_exporter": "python",
   "pygments_lexer": "ipython3",
   "version": "3.12.0"
  }
 },
 "nbformat": 4,
 "nbformat_minor": 2
}
