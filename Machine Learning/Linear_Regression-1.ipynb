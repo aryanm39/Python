{
 "cells": [
  {
   "cell_type": "code",
   "execution_count": null,
   "metadata": {},
   "outputs": [],
   "source": [
    "import pandas as pd\n",
    "import numpy as np\n",
    "import matplotlib.pyplot as plt\n",
    "data = pd.read_csv('dataset/Salary.csv')\n",
    "print('Data Size:',data.shape)\n",
    "X = data['YearsExperience'].values\n",
    "y = data['Salary']\n",
    "print(X)\n",
    "X = X.reshape(-1,1)\n",
    "print(X)\n",
    "from sklearn.model_selection import train_test_split\n",
    "X_train,X_test,y_train,y_test = train_test_split(X,y,test_size=0.25)"
   ]
  },
  {
   "cell_type": "code",
   "execution_count": null,
   "metadata": {},
   "outputs": [],
   "source": [
    "from sklearn.linear_model import LinearRegression\n",
    "regressor = LinearRegression()\n",
    "regressor.fit(X_train,y_train)\n",
    "regressor.score(X_train,y_train)*100\n",
    "regressor.score(X_test,y_test)*100\n",
    "y_pred = regressor.predict(X_test)\n",
    "result = pd.DataFrame('Actual':y_test,'Predicted':y_pred)\n",
    "print(result)\n",
    "regressor.predict([[15]])[0]\n",
    "from sklearn import metrics\n",
    "print('MSE:',metrics.mean_squared_error(y_test,y_pred))\n",
    "\n",
    "from sklearn.metrics import mean_squared_error\n",
    "\n",
    "#Given Values\n",
    "Y_true = [1,1,2,2,4] #Y_true = Y (original values)\n",
    "\n",
    "#Calculated values\n",
    "Y_pred = [0.6,1.29,1.99,2.69,3.4] # Y_pred = Y\n",
    "\n",
    "#Calculation of mean squared error(MSE)\n",
    "mean_squared_error(Y_true,Y_pred)"
   ]
  },
  {
   "cell_type": "code",
   "execution_count": null,
   "metadata": {},
   "outputs": [],
   "source": [
    "x=(1-0.6)**2+(1-1.29)**2+(2-1.99)**2+(2-2.69)**2+(4-3.4)**2\n",
    "x/5"
   ]
  },
  {
   "cell_type": "code",
   "execution_count": null,
   "metadata": {},
   "outputs": [],
   "source": [
    "print('MAE:',metrics.mean_absolute_error(y_test,y_pred))"
   ]
  },
  {
   "cell_type": "code",
   "execution_count": null,
   "metadata": {},
   "outputs": [],
   "source": [
    "#Avg(Abs(Actual-Forecast)/Abs(Actual))*100\n",
    "np.mean(np.abs(y_test-y_pred)/np.abs(y_test)) * 100"
   ]
  },
  {
   "cell_type": "code",
   "execution_count": null,
   "metadata": {},
   "outputs": [],
   "source": [
    "regressor.score(X_test,y_test)*100"
   ]
  }
 ],
 "metadata": {
  "kernelspec": {
   "display_name": "Python 3",
   "language": "python",
   "name": "python3"
  },
  "language_info": {
   "codemirror_mode": {
    "name": "ipython",
    "version": 3
   },
   "file_extension": ".py",
   "mimetype": "text/x-python",
   "name": "python",
   "nbconvert_exporter": "python",
   "pygments_lexer": "ipython3",
   "version": "3.12.0"
  }
 },
 "nbformat": 4,
 "nbformat_minor": 2
}
